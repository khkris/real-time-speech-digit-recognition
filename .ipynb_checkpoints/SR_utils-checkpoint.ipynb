{
 "cells": [
  {
   "cell_type": "code",
   "execution_count": 3,
   "metadata": {},
   "outputs": [],
   "source": [
    "import os\n",
    "import librosa\n",
    "import numpy as np"
   ]
  },
  {
   "cell_type": "code",
   "execution_count": 4,
   "metadata": {},
   "outputs": [],
   "source": [
    "# Obtain Mel-Frequency cepstral coefficients from the audio-input\n",
    "def extract_mfcc(file_path, utterance_length):\n",
    "    \n",
    "    raw_audio, sampling_rate = librosa.load(file_path, mono=True)\n",
    "\n",
    "    # Obtain mfcc features from raw audio\n",
    "    mfcc_features = librosa.feature.mfcc(raw_audio, sampling_rate)\n",
    "    \n",
    "    # Make sure mfcc_features is of utterance length\n",
    "    if (mfcc_features.shape[1] > utterance_length):\n",
    "        mfcc_features = mfcc_features[:, 0:utterance_length]\n",
    "    else:\n",
    "        mfcc_features = np.pad(mfcc_features, ((0, 0), (0, utterance_length - mfcc_features.shape[1])),\n",
    "                               mode='constant', constant_values=0)\n",
    "    \n",
    "    return mfcc_features"
   ]
  },
  {
   "cell_type": "code",
   "execution_count": 20,
   "metadata": {},
   "outputs": [],
   "source": [
    "def get_mfcc_batch(file_path, batch_size, utterance_length):\n",
    "\n",
    "    files = os.listdir(file_path)\n",
    "    X_batch = []\n",
    "    Y_batch = []\n",
    "\n",
    "    while True:\n",
    "        # Shuffle Files\n",
    "        np.random.shuffle(files)\n",
    "        for fname in files:\n",
    "\n",
    "            # Make sure file is a .wav file\n",
    "            if not fname.endswith(\".wav\"):\n",
    "                continue\n",
    "            \n",
    "            # Get MFCC Features for the file\n",
    "            mfcc_features = extract_mfcc(file_path + fname, utterance_length)\n",
    "            \n",
    "            # One-hot encode label for 10 digits 0-9\n",
    "            y = np.eye(10)[int(fname[0])]\n",
    "            \n",
    "            # Append to label batch\n",
    "            Y_batch.append(y)\n",
    "            \n",
    "            # Append mfcc features to ft_batch\n",
    "            X_batch.append(mfcc_features)\n",
    "\n",
    "            # Check to see if default batch size is < than ft_batch\n",
    "            if len(X_batch) == batch_size:\n",
    "                # send over batch\n",
    "                yield X_batch, Y_batch\n",
    "                # reset batches\n",
    "                X_batch = []\n",
    "                Y_batch = []\n"
   ]
  }
 ],
 "metadata": {
  "kernelspec": {
   "display_name": "Python 3",
   "language": "python",
   "name": "python3"
  },
  "language_info": {
   "codemirror_mode": {
    "name": "ipython",
    "version": 3
   },
   "file_extension": ".py",
   "mimetype": "text/x-python",
   "name": "python",
   "nbconvert_exporter": "python",
   "pygments_lexer": "ipython3",
   "version": "3.6.3"
  }
 },
 "nbformat": 4,
 "nbformat_minor": 2
}

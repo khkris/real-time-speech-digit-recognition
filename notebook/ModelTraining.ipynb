{
 "cells": [
  {
   "cell_type": "code",
   "execution_count": 1,
   "metadata": {},
   "outputs": [
    {
     "name": "stderr",
     "output_type": "stream",
     "text": [
      "Using TensorFlow backend.\n"
     ]
    }
   ],
   "source": [
    "from ModelKK import *\n",
    "from SR_utils import *\n",
    "import matplotlib.pyplot as plt"
   ]
  },
  {
   "cell_type": "code",
   "execution_count": 8,
   "metadata": {},
   "outputs": [],
   "source": [
    "VModel = VoiceModel()\n",
    "VModel.compile(loss='categorical_crossentropy', metrics=['accuracy'], optimizer='adam')"
   ]
  },
  {
   "cell_type": "code",
   "execution_count": 9,
   "metadata": {},
   "outputs": [],
   "source": [
    "utterance_length = 30\n",
    "train_batch = get_mfcc_batch('../data/train/', 600, utterance_length)"
   ]
  },
  {
   "cell_type": "code",
   "execution_count": 11,
   "metadata": {},
   "outputs": [
    {
     "name": "stdout",
     "output_type": "stream",
     "text": [
      "Epoch 1/10\n",
      "1200/1200 [==============================] - 3s 3ms/step - loss: 0.9021 - acc: 0.9633\n",
      "Epoch 2/10\n",
      "1200/1200 [==============================] - 3s 3ms/step - loss: 0.8355 - acc: 0.9817\n",
      "Epoch 3/10\n",
      "1200/1200 [==============================] - 3s 3ms/step - loss: 0.7811 - acc: 0.9850\n",
      "Epoch 4/10\n",
      "1200/1200 [==============================] - 3s 3ms/step - loss: 0.7309 - acc: 0.9933\n",
      "Epoch 5/10\n",
      "1200/1200 [==============================] - 3s 3ms/step - loss: 0.6806 - acc: 0.9975\n",
      "Epoch 6/10\n",
      "1200/1200 [==============================] - 4s 3ms/step - loss: 0.6489 - acc: 0.9975\n",
      "Epoch 7/10\n",
      "1200/1200 [==============================] - 3s 3ms/step - loss: 0.6170 - acc: 0.9983\n",
      "Epoch 8/10\n",
      "1200/1200 [==============================] - 3s 3ms/step - loss: 0.5909 - acc: 1.0000\n",
      "Epoch 9/10\n",
      "1200/1200 [==============================] - 3s 3ms/step - loss: 0.5663 - acc: 1.0000\n",
      "Epoch 10/10\n",
      "1200/1200 [==============================] - 3s 3ms/step - loss: 0.5469 - acc: 0.9992\n",
      "300/300 [==============================] - 1s 2ms/step\n",
      "[0.9932227516174317, 0.8699999992052714]\n",
      "Epoch 1/10\n",
      "1200/1200 [==============================] - 3s 3ms/step - loss: 0.5288 - acc: 0.9992\n",
      "Epoch 2/10\n",
      "1200/1200 [==============================] - 3s 3ms/step - loss: 0.5110 - acc: 1.0000\n",
      "Epoch 3/10\n",
      "1200/1200 [==============================] - 4s 3ms/step - loss: 0.4943 - acc: 1.0000\n",
      "Epoch 4/10\n",
      "1200/1200 [==============================] - 3s 3ms/step - loss: 0.4818 - acc: 1.0000\n",
      "Epoch 5/10\n",
      "1200/1200 [==============================] - 3s 3ms/step - loss: 0.4673 - acc: 1.0000\n",
      "Epoch 6/10\n",
      "1200/1200 [==============================] - 3s 3ms/step - loss: 0.4560 - acc: 1.0000\n",
      "Epoch 7/10\n",
      "1200/1200 [==============================] - 3s 3ms/step - loss: 0.4440 - acc: 1.0000\n",
      "Epoch 8/10\n",
      "1200/1200 [==============================] - 3s 3ms/step - loss: 0.4319 - acc: 1.0000\n",
      "Epoch 9/10\n",
      "1200/1200 [==============================] - 3s 3ms/step - loss: 0.4214 - acc: 0.9992\n",
      "Epoch 10/10\n",
      "1200/1200 [==============================] - 3s 3ms/step - loss: 0.4137 - acc: 0.9992\n",
      "300/300 [==============================] - 1s 2ms/step\n",
      "[0.9514642222722371, 0.8766666658719381]\n"
     ]
    }
   ],
   "source": [
    "Models = []\n",
    "accuracy = 0\n",
    "for iterations in range(2):\n",
    "    \n",
    "    X, Y = next(train_batch)\n",
    "    X = np.asarray(X)\n",
    "    Y = np.asarray(Y)\n",
    "    history = VModel.fit(X, Y, epochs=10, batch_size=200)\n",
    "    \n",
    "    print(VModel.evaluate(test_X, test_Y))\n",
    "    \n",
    "    if history.history['acc'][0] < accuracy:\n",
    "        accuracy = history.history['acc']\n",
    "        Models.append(VModel)"
   ]
  },
  {
   "cell_type": "code",
   "execution_count": 4,
   "metadata": {},
   "outputs": [],
   "source": [
    "test_batch = get_mfcc_batch('../data/test/', 300, utterance_length)"
   ]
  },
  {
   "cell_type": "code",
   "execution_count": 5,
   "metadata": {},
   "outputs": [],
   "source": [
    "test_X, test_Y = next(test_batch)"
   ]
  },
  {
   "cell_type": "code",
   "execution_count": 6,
   "metadata": {},
   "outputs": [],
   "source": [
    "test_X = np.asarray(test_X)\n",
    "test_Y = np.asarray(test_Y)"
   ]
  },
  {
   "cell_type": "code",
   "execution_count": 12,
   "metadata": {},
   "outputs": [],
   "source": [
    "VModel.save('../model/VModel_final.h5')"
   ]
  }
 ],
 "metadata": {
  "kernelspec": {
   "display_name": "Python 3",
   "language": "python",
   "name": "python3"
  },
  "language_info": {
   "codemirror_mode": {
    "name": "ipython",
    "version": 3
   },
   "file_extension": ".py",
   "mimetype": "text/x-python",
   "name": "python",
   "nbconvert_exporter": "python",
   "pygments_lexer": "ipython3",
   "version": "3.6.3"
  }
 },
 "nbformat": 4,
 "nbformat_minor": 2
}
